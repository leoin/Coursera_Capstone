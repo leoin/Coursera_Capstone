{
 "cells": [
  {
   "cell_type": "markdown",
   "metadata": {},
   "source": [
    "# Description of the problem"
   ]
  },
  {
   "cell_type": "markdown",
   "metadata": {},
   "source": [
    "The problem is that sometimes we are making a trip and in the middle of the road there was a collision and you have to wait two hours until all the accident area had taken care. So is there a way to predict this accident?"
   ]
  },
  {
   "cell_type": "markdown",
   "metadata": {},
   "source": [
    "# Discussion of the background"
   ]
  },
  {
   "cell_type": "markdown",
   "metadata": {},
   "source": [
    "The main idea is to predict an accident by some data that include weather, road condition, location, severity of the accident, type of coallision, etc."
   ]
  },
  {
   "cell_type": "markdown",
   "metadata": {},
   "source": [
    "# Description of the Data"
   ]
  },
  {
   "cell_type": "markdown",
   "metadata": {},
   "source": [
    "The Data atributes will be: \n",
    "    - SHAPE: x and y location\n",
    "    - ADDRTYPE: type of address can be Alley, Block or Intersection\n",
    "    - SEVERITYCODE: tells the severity of the collision can be: 3—fatality, 2b—serious injury, 2—injury, 1—prop damage, 0—unknown.\n",
    "    - COLLISIONTYPE: type of collision\n",
    "    - PERSONCOUNT: number of people that were involved in the accident.\n",
    "    - PEDCOUNT: number of pedestrians that were involved in the accident.\n",
    "    - PEDCYLCOUNT: number of bicycles that were involved in the accident.\n",
    "    - VEHCOUNT:number of vehicles that were involved in the accident.\n",
    "    - JUNCTIONTYPE: type  of junction at the place of the accident.\n",
    "    - INATTENTIONIND: the collision was with intention? (Y/N)\n",
    "    - UNDERINFL: driver that was found involved was under the influence of drugs or alcohol?\n",
    "    - WEATHER: type of wather during accident.\n",
    "    - ROADCOND: condition of the road during accident.\n",
    "    - LIGHTCOND: condition of the light during accident.\n",
    "    - PEDROWNOTGRNT: pedestrian right of way was granted? (Y/N) \n",
    "    - SPEEDING: speed was a variable that lead to the accident? (Y/N)\n",
    "    - HITPARKEDCAR: in the accident a car that was parked was hit? (Y/N)"
   ]
  },
  {
   "cell_type": "markdown",
   "metadata": {},
   "source": [
    "# How it will be used to solve the problem"
   ]
  },
  {
   "cell_type": "markdown",
   "metadata": {},
   "source": [
    "The idea of the data is to predict the severity of an accident, all variables except SEVERITYCODE are the independent variables and SEVERITYCODE y the dependent. First stage is the cleaning data, then design a machine learning model, train and validate it, and after that will display a graph to explain the conclusion."
   ]
  }
 ],
 "metadata": {
  "kernelspec": {
   "display_name": "Python 3",
   "language": "python",
   "name": "python3"
  },
  "language_info": {
   "codemirror_mode": {
    "name": "ipython",
    "version": 3
   },
   "file_extension": ".py",
   "mimetype": "text/x-python",
   "name": "python",
   "nbconvert_exporter": "python",
   "pygments_lexer": "ipython3",
   "version": "3.7.7"
  }
 },
 "nbformat": 4,
 "nbformat_minor": 4
}
